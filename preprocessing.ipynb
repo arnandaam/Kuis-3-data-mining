{
  "nbformat": 4,
  "nbformat_minor": 0,
  "metadata": {
    "colab": {
      "name": "preprocessing.ipynb",
      "provenance": [],
      "collapsed_sections": []
    },
    "kernelspec": {
      "name": "python3",
      "display_name": "Python 3"
    }
  },
  "cells": [
    {
      "cell_type": "code",
      "metadata": {
        "id": "iE7cpPhN6wC8"
      },
      "source": [
        "import numpy as np\n",
        "import matplotlib.pyplot as plt\n",
        "import pandas as pd\n"
      ],
      "execution_count": null,
      "outputs": []
    },
    {
      "cell_type": "markdown",
      "metadata": {
        "id": "Dv7iHV0F9Hwp"
      },
      "source": [
        "Library Numpy => Olah Numerik di Pypton Library Pandas => Untuk import external file csv,clsx,txt......"
      ]
    },
    {
      "cell_type": "code",
      "metadata": {
        "id": "kn0u5udr9D_j"
      },
      "source": [
        "dataset = pd.read_csv('data.csv')\n",
        "x = dataset.iloc[:, :-1].values\n",
        "y = dataset.iloc[:, -1].values"
      ],
      "execution_count": null,
      "outputs": []
    },
    {
      "cell_type": "code",
      "metadata": {
        "colab": {
          "base_uri": "https://localhost:8080/"
        },
        "id": "iV4QQ01U-Jup",
        "outputId": "b40bb08f-7341-4785-ad4a-09c415bbb3e3"
      },
      "source": [
        "print(x)"
      ],
      "execution_count": null,
      "outputs": [
        {
          "output_type": "stream",
          "text": [
            "[['Grape' 66.0 62000.0]\n",
            " ['Pineapple' 37.0 38000.0]\n",
            " ['Apple' 40.0 34000.0]\n",
            " ['Carrot' 48.0 31000.0]\n",
            " ['Pineapple' 50.0 nan]\n",
            " ['Grape' 45.0 38000.0]\n",
            " ['Carrot' nan 42000.0]\n",
            " ['Apple' 58.0 69000.0]\n",
            " ['Pineapple' 60.0 73000.0]\n",
            " ['Apple' 47.0 57000.0]\n",
            " ['Carrot' 30.0 nan]\n",
            " ['Grape' 65.0 48000.0]\n",
            " ['Pineapple' nan 52000.0]\n",
            " ['Apple' 57.0 65000.0]\n",
            " ['Grape' 77.0 78000.0]\n",
            " ['Carrot' 45.0 47000.0]]\n"
          ],
          "name": "stdout"
        }
      ]
    },
    {
      "cell_type": "code",
      "metadata": {
        "colab": {
          "base_uri": "https://localhost:8080/"
        },
        "id": "zS-oH51s-zUq",
        "outputId": "68b1fa3b-229d-45c4-e55d-432bd34a8569"
      },
      "source": [
        "print(y)"
      ],
      "execution_count": null,
      "outputs": [
        {
          "output_type": "stream",
          "text": [
            "['No' 'Yes' 'No' 'No' 'Yes' 'Yes' 'No' 'Yes' 'No' 'Yes' 'Yes' 'No' 'Yes'\n",
            " 'No' 'No' 'Yes']\n"
          ],
          "name": "stdout"
        }
      ]
    },
    {
      "cell_type": "code",
      "metadata": {
        "id": "3L5AlUGE_EvX"
      },
      "source": [
        "from sklearn.impute import SimpleImputer\n",
        "imputer = SimpleImputer(missing_values=np.nan, strategy='mean')\n",
        "imputer.fit(x[:, 1:3])\n",
        "x[:, 1:3] = imputer.transform(x[:, 1:3])"
      ],
      "execution_count": null,
      "outputs": []
    },
    {
      "cell_type": "code",
      "metadata": {
        "colab": {
          "base_uri": "https://localhost:8080/"
        },
        "id": "iozsPJcKAl3Q",
        "outputId": "37e364ad-c3bf-47d5-a2d1-84531ffb1236"
      },
      "source": [
        "print(x)"
      ],
      "execution_count": null,
      "outputs": [
        {
          "output_type": "stream",
          "text": [
            "[['Grape' 66.0 62000.0]\n",
            " ['Pineapple' 37.0 38000.0]\n",
            " ['Apple' 40.0 34000.0]\n",
            " ['Carrot' 48.0 31000.0]\n",
            " ['Pineapple' 50.0 52428.57142857143]\n",
            " ['Grape' 45.0 38000.0]\n",
            " ['Carrot' 51.785714285714285 42000.0]\n",
            " ['Apple' 58.0 69000.0]\n",
            " ['Pineapple' 60.0 73000.0]\n",
            " ['Apple' 47.0 57000.0]\n",
            " ['Carrot' 30.0 52428.57142857143]\n",
            " ['Grape' 65.0 48000.0]\n",
            " ['Pineapple' 51.785714285714285 52000.0]\n",
            " ['Apple' 57.0 65000.0]\n",
            " ['Grape' 77.0 78000.0]\n",
            " ['Carrot' 45.0 47000.0]]\n"
          ],
          "name": "stdout"
        }
      ]
    },
    {
      "cell_type": "code",
      "metadata": {
        "id": "xJDHh_4vArdm"
      },
      "source": [
        "from sklearn.compose import ColumnTransformer\n",
        "from sklearn.preprocessing import OneHotEncoder\n",
        "ct = ColumnTransformer(transformers=[('encoder', OneHotEncoder(), [0])], remainder='passthrough')\n",
        "x = np.array(ct.fit_transform(x))"
      ],
      "execution_count": null,
      "outputs": []
    },
    {
      "cell_type": "code",
      "metadata": {
        "colab": {
          "base_uri": "https://localhost:8080/"
        },
        "id": "dmKDlb5IBy3Q",
        "outputId": "855b9324-0adc-4ea0-e40a-13d4e68786e1"
      },
      "source": [
        "print(x)"
      ],
      "execution_count": null,
      "outputs": [
        {
          "output_type": "stream",
          "text": [
            "[[0.0 0.0 1.0 0.0 66.0 62000.0]\n",
            " [0.0 0.0 0.0 1.0 37.0 38000.0]\n",
            " [1.0 0.0 0.0 0.0 40.0 34000.0]\n",
            " [0.0 1.0 0.0 0.0 48.0 31000.0]\n",
            " [0.0 0.0 0.0 1.0 50.0 52428.57142857143]\n",
            " [0.0 0.0 1.0 0.0 45.0 38000.0]\n",
            " [0.0 1.0 0.0 0.0 51.785714285714285 42000.0]\n",
            " [1.0 0.0 0.0 0.0 58.0 69000.0]\n",
            " [0.0 0.0 0.0 1.0 60.0 73000.0]\n",
            " [1.0 0.0 0.0 0.0 47.0 57000.0]\n",
            " [0.0 1.0 0.0 0.0 30.0 52428.57142857143]\n",
            " [0.0 0.0 1.0 0.0 65.0 48000.0]\n",
            " [0.0 0.0 0.0 1.0 51.785714285714285 52000.0]\n",
            " [1.0 0.0 0.0 0.0 57.0 65000.0]\n",
            " [0.0 0.0 1.0 0.0 77.0 78000.0]\n",
            " [0.0 1.0 0.0 0.0 45.0 47000.0]]\n"
          ],
          "name": "stdout"
        }
      ]
    },
    {
      "cell_type": "code",
      "metadata": {
        "id": "288RFuqqB2-J"
      },
      "source": [
        "from sklearn.preprocessing import LabelEncoder\n",
        "le = LabelEncoder()\n",
        "y = le.fit_transform(y)"
      ],
      "execution_count": null,
      "outputs": []
    },
    {
      "cell_type": "code",
      "metadata": {
        "colab": {
          "base_uri": "https://localhost:8080/"
        },
        "id": "ICoEK_5CCJj8",
        "outputId": "3e651b23-e86e-40c1-b9e7-56fc9ee88575"
      },
      "source": [
        "print(y)"
      ],
      "execution_count": null,
      "outputs": [
        {
          "output_type": "stream",
          "text": [
            "[0 1 0 0 1 1 0 1 0 1 1 0 1 0 0 1]\n"
          ],
          "name": "stdout"
        }
      ]
    },
    {
      "cell_type": "code",
      "metadata": {
        "id": "YevR-islCORr"
      },
      "source": [
        "from sklearn.model_selection import train_test_split\n",
        "x_train, x_test, y_train, y_test = train_test_split(x, y, test_size = 0.2, random_state = 1)\n"
      ],
      "execution_count": null,
      "outputs": []
    },
    {
      "cell_type": "code",
      "metadata": {
        "colab": {
          "base_uri": "https://localhost:8080/"
        },
        "id": "ttQPuQE7CsPQ",
        "outputId": "59024c3a-0125-4ddb-9017-b29665183343"
      },
      "source": [
        "print(x_train)"
      ],
      "execution_count": null,
      "outputs": [
        {
          "output_type": "stream",
          "text": [
            "[[0.0 1.0 0.0 0.0 51.785714285714285 42000.0]\n",
            " [0.0 1.0 0.0 0.0 30.0 52428.57142857143]\n",
            " [0.0 0.0 0.0 1.0 50.0 52428.57142857143]\n",
            " [0.0 0.0 0.0 1.0 37.0 38000.0]\n",
            " [0.0 0.0 1.0 0.0 77.0 78000.0]\n",
            " [0.0 0.0 1.0 0.0 66.0 62000.0]\n",
            " [0.0 1.0 0.0 0.0 45.0 47000.0]\n",
            " [1.0 0.0 0.0 0.0 47.0 57000.0]\n",
            " [0.0 0.0 0.0 1.0 60.0 73000.0]\n",
            " [0.0 0.0 0.0 1.0 51.785714285714285 52000.0]\n",
            " [0.0 0.0 1.0 0.0 65.0 48000.0]\n",
            " [0.0 0.0 1.0 0.0 45.0 38000.0]]\n"
          ],
          "name": "stdout"
        }
      ]
    },
    {
      "cell_type": "code",
      "metadata": {
        "colab": {
          "base_uri": "https://localhost:8080/"
        },
        "id": "-pJMOFkTCxzS",
        "outputId": "3bf3eadc-c8ad-451e-d8ba-b511acda299d"
      },
      "source": [
        "print(x_test)"
      ],
      "execution_count": null,
      "outputs": [
        {
          "output_type": "stream",
          "text": [
            "[[0.0 1.0 0.0 0.0 48.0 31000.0]\n",
            " [1.0 0.0 0.0 0.0 57.0 65000.0]\n",
            " [1.0 0.0 0.0 0.0 58.0 69000.0]\n",
            " [1.0 0.0 0.0 0.0 40.0 34000.0]]\n"
          ],
          "name": "stdout"
        }
      ]
    },
    {
      "cell_type": "code",
      "metadata": {
        "colab": {
          "base_uri": "https://localhost:8080/"
        },
        "id": "aXzuyGd_C39z",
        "outputId": "024153c3-2a08-4a77-fd9c-29c6bf4405f6"
      },
      "source": [
        "print(y_train)"
      ],
      "execution_count": null,
      "outputs": [
        {
          "output_type": "stream",
          "text": [
            "[0 1 1 1 0 0 1 1 0 1 0 1]\n"
          ],
          "name": "stdout"
        }
      ]
    },
    {
      "cell_type": "code",
      "metadata": {
        "colab": {
          "base_uri": "https://localhost:8080/"
        },
        "id": "XbZSEX81C8__",
        "outputId": "0d07d536-def4-4f57-989a-054e4f49f0d9"
      },
      "source": [
        "print(y_test)"
      ],
      "execution_count": null,
      "outputs": [
        {
          "output_type": "stream",
          "text": [
            "[0 0 1 0]\n"
          ],
          "name": "stdout"
        }
      ]
    },
    {
      "cell_type": "code",
      "metadata": {
        "id": "EIVtHEMNDAsf"
      },
      "source": [
        "from sklearn.preprocessing import StandardScaler\n",
        "sc = StandardScaler()\n",
        "x_train[:, 3:] = sc.fit_transform(x_train[:, 3:])\n",
        "x_test[:, 3:] = sc.transform(x_test[:, 3:])"
      ],
      "execution_count": null,
      "outputs": []
    },
    {
      "cell_type": "code",
      "metadata": {
        "colab": {
          "base_uri": "https://localhost:8080/"
        },
        "id": "V4LzkF-IDrGI",
        "outputId": "c9be7def-15c6-4968-9ad2-808454a1bc84"
      },
      "source": [
        "print(x_train)"
      ],
      "execution_count": null,
      "outputs": [
        {
          "output_type": "stream",
          "text": [
            "[[0.0 1.0 0.0 -0.7071067811865475 -0.027510059182259322\n",
            "  -0.936323455089873]\n",
            " [0.0 1.0 0.0 -0.7071067811865475 -1.7634896558558664\n",
            "  -0.07384254377680403]\n",
            " [0.0 0.0 0.0 1.4142135623730951 -0.16980346874566968\n",
            "  -0.07384254377680403]\n",
            " [0.0 0.0 0.0 1.4142135623730951 -1.2056994903672975 -1.2671380512099544]\n",
            " [0.0 0.0 1.0 -0.7071067811865475 1.981672883853096 2.0410079099908587]\n",
            " [0.0 0.0 1.0 -0.7071067811865475 1.1051454809424877 0.7177495255105335]\n",
            " [0.0 1.0 0.0 -0.7071067811865475 -0.5682250155232189 -0.5228052099397714]\n",
            " [1.0 0.0 0.0 -0.7071067811865475 -0.4088563968121992 0.30423128036043184]\n",
            " [0.0 0.0 0.0 1.4142135623730951 0.6270396248094288 1.627489664840757]\n",
            " [0.0 0.0 0.0 1.4142135623730951 -0.027510059182259322\n",
            "  -0.1092869647896698]\n",
            " [0.0 0.0 1.0 -0.7071067811865475 1.025461171586978 -0.4401015609097511]\n",
            " [0.0 0.0 1.0 -0.7071067811865475 -0.5682250155232189 -1.2671380512099544]]\n"
          ],
          "name": "stdout"
        }
      ]
    },
    {
      "cell_type": "code",
      "metadata": {
        "colab": {
          "base_uri": "https://localhost:8080/"
        },
        "id": "NKAkttenDvIY",
        "outputId": "9d54f8c2-cbf5-4ceb-b5ca-5d3eb1f3855b"
      },
      "source": [
        "print(x_test)"
      ],
      "execution_count": null,
      "outputs": [
        {
          "output_type": "stream",
          "text": [
            "[[0.0 1.0 0.0 -0.7071067811865475 -0.32917208745668936\n",
            "  -1.8460635944200967]\n",
            " [1.0 0.0 0.0 -0.7071067811865475 0.3879866967428992 0.9658604726005945]\n",
            " [1.0 0.0 0.0 -0.7071067811865475 0.46767100609840906 1.2966750687206758]\n",
            " [1.0 0.0 0.0 -0.7071067811865475 -0.9666465623007681 -1.5979526473300356]]\n"
          ],
          "name": "stdout"
        }
      ]
    }
  ]
} 
